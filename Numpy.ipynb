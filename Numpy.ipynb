{
  "nbformat": 4,
  "nbformat_minor": 0,
  "metadata": {
    "colab": {
      "provenance": [],
      "authorship_tag": "ABX9TyMENI08FnPbZx1d9sDrqCA/",
      "include_colab_link": true
    },
    "kernelspec": {
      "name": "python3",
      "display_name": "Python 3"
    },
    "language_info": {
      "name": "python"
    }
  },
  "cells": [
    {
      "cell_type": "markdown",
      "metadata": {
        "id": "view-in-github",
        "colab_type": "text"
      },
      "source": [
        "<a href=\"https://colab.research.google.com/github/MDHussain2004/Numpy/blob/main/Numpy.ipynb\" target=\"_parent\"><img src=\"https://colab.research.google.com/assets/colab-badge.svg\" alt=\"Open In Colab\"/></a>"
      ]
    },
    {
      "cell_type": "code",
      "execution_count": null,
      "metadata": {
        "colab": {
          "base_uri": "https://localhost:8080/"
        },
        "id": "zjedVLyfDSzn",
        "outputId": "09f53f98-f592-416c-ecf2-010bff075812"
      },
      "outputs": [
        {
          "output_type": "stream",
          "name": "stdout",
          "text": [
            "[2 4 6 8]\n",
            "[2, 4, 6, 8]\n"
          ]
        }
      ],
      "source": [
        "#QUESTION1\n",
        "#Explain the purpose and advantages of NumPy in scientific computing and data analysis. How does it  enhance Python's capabilities for numerical operations?\n",
        "'''\n",
        "NumPy (Numerical Python) is a powerful library in Python that provides support for large, multi-dimensional arrays and matrices, along with a vast collection of mathematical functions to operate on these arrays efficiently. It is widely used in scientific computing and data analysis due to its performance, ease of use, and ability to handle large datasets.\n",
        "\n",
        "Purpose of NumPy:\n",
        "Efficient Numerical Computations:\n",
        "\n",
        "NumPy allows for fast and efficient operations on large datasets, including element-wise operations, matrix operations, and other numerical computations.\n",
        "It is implemented in C, making it much faster than using Python’s built-in data structures like lists for numerical calculations.\n",
        "Multi-dimensional Array Support:\n",
        "\n",
        "NumPy introduces the ndarray object, which is a powerful N-dimensional array used to store data in a structured format.\n",
        "Arrays can be indexed, sliced, and manipulated in various ways, making it ideal for working with datasets of any dimension.\n",
        "Mathematical Functions and Linear Algebra:\n",
        "\n",
        "NumPy provides a wide variety of mathematical functions (e.g., trigonometric, logarithmic, exponential) and linear algebra operations (e.g., matrix multiplication, eigenvalue computation).\n",
        "Interfacing with Other Libraries:\n",
        "\n",
        "Many libraries in scientific computing, machine learning, and data analysis, such as SciPy, Pandas, and TensorFlow, are built on top of NumPy and make extensive use of its arrays and functions.\n",
        "Advantages of NumPy in Scientific Computing and Data Analysis:\n",
        "Speed and Performance:\n",
        "\n",
        "NumPy operations are much faster than equivalent operations on Python lists because they are implemented in C, and NumPy arrays are more memory-efficient. This results in significant performance improvements, especially for large datasets.\n",
        "Vectorization and Broadcasting:\n",
        "\n",
        "NumPy supports vectorized operations, meaning you can perform operations on entire arrays without the need for loops, which significantly speeds up computations.\n",
        "Broadcasting allows you to perform arithmetic operations on arrays of different shapes and sizes in a way that is both intuitive and efficient.\n",
        "Memory Efficiency:\n",
        "\n",
        "NumPy arrays use less memory compared to Python lists because they store data in contiguous blocks of memory, avoiding the overhead associated with lists\n",
        " that store pointers to objects.\n",
        "Support for Multi-dimensional Data:\n",
        "\n",
        "NumPy arrays (ndarrays) support multi-dimensional data, which is essential for tasks like image processing, scientific simulations, or machine learning, where data\n",
        " often comes in the form of matrices or higher-dimensional structures.\n",
        "Rich Mathematical Operations:\n",
        "\n",
        "NumPy provides a wide range of mathematical operations (e.g., addition, subtraction, matrix multiplication, dot product) and supports linear algebra, Fourier transforms,\n",
        " and random number generation, all optimized for performance.\n",
        "Integration with Other Libraries:\n",
        "\n",
        "NumPy seamlessly integrates with libraries like Pandas (for data manipulation), Matplotlib (for plotting), SciPy (for scientific computing), and TensorFlow (for machine learning).\n",
        " This ecosystem makes it indispensable in data science and engineering applications.\n",
        "How NumPy Enhances Python's Capabilities:\n",
        "Array-based Data Structures:\n",
        "Python’s built-in data structures (like lists) are flexible but not optimized for numerical operations. NumPy’s ndarray provides an efficient way to store and manipulate numerical\n",
        "data, enabling faster and more reliable numerical computations.\n",
        "Faster Execution:\n",
        "Python is an interpreted language and can be slow for loops or element-wise operations on lists. NumPy enhances performance by offloading operations to highly-optimized C libraries,\n",
        "making numerical operations much faster.\n",
        "Mathematical Routines:\n",
        "Python alone lacks robust support for high-performance linear algebra, random number generation, and other numerical routines. NumPy adds these capabilities, allowing Python to\n",
        "be used effectively for scientific and mathematical computing.\n",
        "'''\n",
        "#Example: NumPy Array vs Python List\n",
        "import numpy as np\n",
        "\n",
        "# NumPy array operations\n",
        "arr = np.array([1, 2, 3, 4])\n",
        "print(arr * 2)  # Element-wise multiplication (Vectorization)\n",
        "# Output: [2 4 6 8]\n",
        "\n",
        "# Python list operations (without NumPy)\n",
        "lst = [1, 2, 3, 4]\n",
        "print([x * 2 for x in lst])  # Slower due to looping\n",
        "# Output: [2, 4, 6, 8]\n",
        "\n",
        "#In this example, NumPy performs element-wise multiplication without the need for an explicit loop, making it faster and more readable than using a Python list."
      ]
    },
    {
      "cell_type": "code",
      "source": [
        "#QUESTION 2\n",
        "#Compare and contrast np.mean() and np.average() functions in NumPy. When would you use one over the  other?\n",
        "'''\n",
        "Both np.mean() and np.average() are NumPy functions used to compute the average of values, but they have different behaviors, especially when dealing with weighted averages.\n",
        "Here's a comparison of the two functions and when to use each:\n",
        "\n",
        "1. np.mean():\n",
        "Purpose: Computes the arithmetic mean (average) of the elements along the specified axis.\n",
        "Parameters:\n",
        "a: Input array or object that can be converted to an array.\n",
        "axis: (Optional) Axis or axes along which the means are computed. The default is to compute the mean of the flattened array.\n",
        "dtype: (Optional) Data type for the result. The default is inferred from the input array.\n",
        "keepdims: (Optional) If set to True, retains reduced dimensions with size 1.\n",
        "Behavior: It always returns the arithmetic mean, where all elements contribute equally.\n",
        "'''\n",
        "#Example:\n",
        "\n",
        "import numpy as np\n",
        "\n",
        "data = np.array([1, 2, 3, 4, 5])\n",
        "\n",
        "# Compute arithmetic mean\n",
        "mean_value = np.mean(data)\n",
        "print(mean_value)  # Output: 3.0\n",
        "'''\n",
        "2. np.average():\n",
        "Purpose: Computes the weighted average of the array elements, which means elements can have different \"weights\" in the computation.\n",
        "\n",
        "Parameters:\n",
        "\n",
        "a: Input array or object that can be converted to an array.\n",
        "weights: (Optional) An array of weights associated with the values in the input array. If not provided, it computes the arithmetic mean (like np.mean()).\n",
        "axis: (Optional) Axis or axes along which to average.\n",
        "returned: (Optional) If True, returns a tuple with the average and the sum of the weights.\n",
        "Behavior:\n",
        "\n",
        "If weights are not provided, np.average() behaves like np.mean().\n",
        "If weights are provided, it computes a weighted average, where each element in the array contributes to the result according to its associated weight.\n",
        "Example without weights (behaves like np.mean()):\n",
        "'''\n",
        "\n",
        "data = np.array([1, 2, 3, 4, 5])\n",
        "\n",
        "# Compute average (without weights, same as mean)\n",
        "average_value = np.average(data)\n",
        "print(average_value)  # Output: 3.0\n",
        "\n",
        "\n",
        "data = np.array([1, 2, 3, 4, 5])\n",
        "weights = np.array([0.1, 0.2, 0.3, 0.4, 0.5])\n",
        "\n",
        "# Compute weighted average\n",
        "weighted_avg = np.average(data, weights=weights)\n",
        "print(weighted_avg)  # Output: 3.6666666666666665\n",
        "'''\n",
        "Key Differences:\n",
        "Aspect\tnp.mean()\tnp.average()\n",
        "Default behavior\tComputes the arithmetic mean.\tComputes the arithmetic mean if no weights are given.\n",
        "Weighted average\tNo support for weights.\tSupports weighted averages using the weights parameter.\n",
        "Return value\tReturns the mean.\tReturns the weighted average (and sum of weights if returned=True).\n",
        "Use case\tWhen you need the simple arithmetic mean of an array.\tWhen you need a weighted average of the array.\n",
        "When to Use np.mean():\n",
        "Use np.mean() when you need to compute the arithmetic mean and do not need to account for weights.\n",
        "It's simpler, faster, and should be your go-to function for basic averaging.\n",
        "'''\n",
        "#Example Use Case:\n",
        "\n",
        "data = np.array([10, 20, 30, 40])\n",
        "mean_val = np.mean(data)  # Output: 25.0\n",
        "'''\n",
        "When to Use np.average():\n",
        "Use np.average() when you need to compute a weighted average, where some elements of the array have more influence on the result than others.\n",
        "If you don't pass the weights argument, np.average() is equivalent to np.mean().\n",
        "'''\n",
        "#Example Use Case (Weighted Average):\n",
        "\n",
        "# Weights reflecting different importance of the elements\n",
        "data = np.array([10, 20, 30, 40])\n",
        "weights = np.array([1, 2, 3, 4])\n",
        "weighted_avg = np.average(data, weights=weights)  # Output: 30.0\n",
        "\n",
        "#In this example, the higher weight for the last elements means the values 30 and 40 contribute more to the weighted average than 10 and 20."
      ],
      "metadata": {
        "colab": {
          "base_uri": "https://localhost:8080/"
        },
        "id": "4bkqyM0IFh0u",
        "outputId": "351bb544-b39b-48df-df9a-8fa8fadf52fb"
      },
      "execution_count": null,
      "outputs": [
        {
          "output_type": "stream",
          "name": "stdout",
          "text": [
            "3.0\n",
            "3.0\n",
            "3.6666666666666665\n"
          ]
        }
      ]
    },
    {
      "cell_type": "code",
      "source": [
        "#QUESTION 3\n",
        "# Describe the methods for reversing a NumPy array along different axes. Provide examples for 1D and 2D arrays.\n",
        "'''\n",
        "In NumPy, you can reverse arrays along different axes using slicing, specialized functions, or methods like np.flip(). Here’s a breakdown of how to reverse arrays for\n",
        "both 1D and 2D arrays.\n",
        "\n",
        "1. Reversing a 1D NumPy Array\n",
        "The simplest way to reverse a 1D NumPy array is by using Python slicing.\n",
        "\n",
        "Method 1: Slicing\n",
        "You can reverse a 1D array using the slicing method [::-1].\n",
        "'''\n",
        "import numpy as np\n",
        "\n",
        "# 1D array\n",
        "arr_1d = np.array([1, 2, 3, 4, 5])\n",
        "\n",
        "# Reverse using slicing\n",
        "reversed_arr_1d = arr_1d[::-1]\n",
        "print(reversed_arr_1d)  # Output: [5 4 3 2 1]\n",
        "\n",
        "#Method 2: np.flip()\n",
        "#You can also use the np.flip() function to reverse a 1D array along a specific axis.\n",
        "reversed_arr_1d_flip = np.flip(arr_1d)\n",
        "print(reversed_arr_1d_flip)  # Output: [5 4 3 2 1]\n",
        "'''\n",
        "2. Reversing a 2D NumPy Array\n",
        "For a 2D array, reversing can be done along different axes (rows, columns, or both).\n",
        "\n",
        "Method 1: Reverse Along Rows (Axis 0)\n",
        "To reverse the array along the rows (flip vertically):\n",
        "'''\n",
        "arr_2d = np.array([[1, 2, 3], [4, 5, 6], [7, 8, 9]])\n",
        "\n",
        "# Reverse along rows using slicing\n",
        "reversed_rows = arr_2d[::-1, :]\n",
        "print(reversed_rows)\n",
        "'''\n",
        "Method 2: Reverse Along Columns (Axis 1)\n",
        "To reverse the array along the columns (flip horizontally):\n",
        "'''\n",
        "# Reverse along columns using slicing\n",
        "reversed_columns = arr_2d[:, ::-1]\n",
        "print(reversed_columns)\n",
        "'''\n",
        "Method 3: Reverse Along Both Axes\n",
        "To reverse the array along both axes (flip both rows and columns):\n",
        "'''\n",
        "# Reverse along both axes using slicing\n",
        "reversed_both = arr_2d[::-1, ::-1]\n",
        "print(reversed_both)\n",
        "'''\n",
        "Method 4: np.flip()\n",
        "You can use the np.flip() function to reverse a 2D array along a specific axis.\n",
        "'''\n",
        "#Flip along rows (axis 0):\n",
        "reversed_rows_flip = np.flip(arr_2d, axis=0)\n",
        "print(reversed_rows_flip)\n",
        "\n",
        "#Flip along columns (axis 1):\n",
        "\n",
        "reversed_columns_flip = np.flip(arr_2d, axis=1)\n",
        "print(reversed_columns_flip)\n",
        "\n",
        "#Flip along both axes:\n",
        "\n",
        "reversed_both_flip = np.flip(arr_2d)\n",
        "print(reversed_both_flip)\n"
      ],
      "metadata": {
        "colab": {
          "base_uri": "https://localhost:8080/"
        },
        "id": "HmWGxOhcGoPv",
        "outputId": "f8dcf32d-8990-49cf-8083-ee311f72be72"
      },
      "execution_count": null,
      "outputs": [
        {
          "output_type": "stream",
          "name": "stdout",
          "text": [
            "[5 4 3 2 1]\n",
            "[5 4 3 2 1]\n",
            "[[7 8 9]\n",
            " [4 5 6]\n",
            " [1 2 3]]\n",
            "[[3 2 1]\n",
            " [6 5 4]\n",
            " [9 8 7]]\n",
            "[[9 8 7]\n",
            " [6 5 4]\n",
            " [3 2 1]]\n",
            "[[7 8 9]\n",
            " [4 5 6]\n",
            " [1 2 3]]\n",
            "[[3 2 1]\n",
            " [6 5 4]\n",
            " [9 8 7]]\n",
            "[[9 8 7]\n",
            " [6 5 4]\n",
            " [3 2 1]]\n"
          ]
        }
      ]
    },
    {
      "cell_type": "code",
      "source": [
        "#QUESTION 4\n",
        "#How can you determine the data type of elements in a NumPy array? Discuss the importance of data types in memory management and performance.\n",
        "'''\n",
        "I can determine the data type of elements in a NumPy array using the .dtype attribute.\n",
        "This attribute returns the data type of the array's elements, which is critical for efficient memory management and performance in NumPy.\n",
        "'''\n",
        "#Example: Determine the Data Type of a NumPy Array\n",
        "\n",
        "# Creating an array\n",
        "arr = np.array([1, 2, 3, 4])\n",
        "\n",
        "# Checking the data type of the elements\n",
        "print(arr.dtype)  # Output: int64 (or int32, depending on the system)\n",
        "#In this example, the .dtype attribute shows the type of the elements in the array, which in this case is int64.\n",
        "'''\n",
        "Importance of Data Types in Memory Management and Performance\n",
        "Memory Efficiency:\n",
        "\n",
        "NumPy allows for explicit control over the data type of the elements in an array. By choosing the right data type (e.g., int32, int64, float32, float64), you can optimize\n",
        "memory usage.\n",
        "For example, using a float64 data type (64 bits or 8 bytes per element) for storing integers is inefficient if a smaller data type like int8 (8 bits or 1 byte per element)\n",
        "suffices. This becomes especially important when dealing with large datasets.\n",
        "'''\n",
        "#Example: Memory efficiency with different data types:\n",
        "\n",
        "arr_int32 = np.array([1, 2, 3, 4], dtype='int32')\n",
        "arr_float64 = np.array([1, 2, 3, 4], dtype='float64')\n",
        "\n",
        "print(arr_int32.nbytes)  # Output: 16 bytes (4 elements * 4 bytes)\n",
        "print(arr_float64.nbytes)  # Output: 32 bytes (4 elements * 8 bytes)\n",
        "#As seen, using float64 consumes more memory than int32.\n",
        "'''\n",
        "Performance:\n",
        "\n",
        "Operations on NumPy arrays are highly optimized for specific data types. By using appropriate data types, you can significantly boost computational performance.\n",
        "For instance, using float32 instead of float64 can speed up operations when high precision isn't required because fewer bytes are processed at a time.\n",
        "'''\n",
        "#Example: Performance difference:\n",
        "\n",
        "import time\n",
        "\n",
        "# Large arrays\n",
        "arr_float32 = np.random.rand(1000000).astype('float32')\n",
        "arr_float64 = np.random.rand(1000000).astype('float64')\n",
        "\n",
        "# Measure time for operations\n",
        "start = time.time()\n",
        "np.sum(arr_float32)\n",
        "print(\"Time for float32:\", time.time() - start)\n",
        "\n",
        "start = time.time()\n",
        "np.sum(arr_float64)\n",
        "print(\"Time for float64:\", time.time() - start)\n",
        "#Operations on float32 arrays are faster than on float64 arrays, as less memory is processed.\n",
        "'''\n",
        "Precision:\n",
        "\n",
        "The choice of data type affects the precision of calculations. For example, float32 provides less precision than float64, which may lead to rounding errors in complex calculations.\n",
        "For applications where precision is critical, such as scientific computing or financial analysis, it's important to use a higher precision data type like float64.\n",
        "Interoperability with Other Libraries:\n",
        "\n",
        "In data analysis and scientific computing, NumPy arrays often interface with other libraries like pandas, TensorFlow, or PyTorch. Ensuring the correct data types can help\n",
        "maintain consistency and avoid errors when passing data between different frameworks.\n",
        "For example, in machine learning, using float32 is common in frameworks like TensorFlow or PyTorch because it offers a good balance between precision and performance.'''"
      ],
      "metadata": {
        "colab": {
          "base_uri": "https://localhost:8080/",
          "height": 192
        },
        "id": "y4jKI7RhH_Xm",
        "outputId": "3751aaab-88dd-4e12-8a09-709daba57eba"
      },
      "execution_count": null,
      "outputs": [
        {
          "output_type": "stream",
          "name": "stdout",
          "text": [
            "int64\n",
            "16\n",
            "32\n",
            "Time for float32: 0.0010197162628173828\n",
            "Time for float64: 0.0018131732940673828\n"
          ]
        },
        {
          "output_type": "execute_result",
          "data": {
            "text/plain": [
              "\"\\nPrecision:\\n\\nThe choice of data type affects the precision of calculations. For example, float32 provides less precision than float64, which may lead to rounding errors in complex calculations.\\nFor applications where precision is critical, such as scientific computing or financial analysis, it's important to use a higher precision data type like float64.\\nInteroperability with Other Libraries:\\n\\nIn data analysis and scientific computing, NumPy arrays often interface with other libraries like pandas, TensorFlow, or PyTorch. Ensuring the correct data types can help maintain consistency and avoid errors when passing data between different frameworks.\\nFor example, in machine learning, using float32 is common in frameworks like TensorFlow or PyTorch because it offers a good balance between precision and performance.\""
            ],
            "application/vnd.google.colaboratory.intrinsic+json": {
              "type": "string"
            }
          },
          "metadata": {},
          "execution_count": 4
        }
      ]
    },
    {
      "cell_type": "code",
      "source": [
        "#QUESTION 5\n",
        "# Define ndarrays in NumPy and explain their key features. How do they differ from standard Python lists?\n",
        "'''\n",
        "In NumPy, an ndarray (short for N-dimensional array) is a powerful, high-performance data structure that represents arrays of any dimensionality. It is the core data structure\n",
        "in NumPy, used for storing and manipulating numerical data in an efficient way. ndarray is highly optimized for vectorized operations and mathematical computations,\n",
        "making it essential for scientific computing and data analysis.\n",
        "\n",
        "Key Features of ndarray:\n",
        "N-Dimensional:\n",
        "\n",
        "ndarray can represent arrays with any number of dimensions (1D, 2D, 3D, etc.), making it versatile for a wide range of mathematical operations.\n",
        "\n",
        "#Example:\n",
        "1D: [1, 2, 3]\n",
        "2D: [[1, 2], [3, 4]]\n",
        "3D: [[[1, 2], [3, 4]], [[5, 6], [7, 8]]]'''\n",
        "'''\n",
        "Homogeneous Data Type:\n",
        "\n",
        "All elements in an ndarray must have the same data type (int, float, etc.). This is different from Python lists, which can store elements of different types.\n",
        "The data type of an ndarray is defined by its dtype attribute, ensuring that operations are optimized and consistent.\n",
        "Vectorized Operations:\n",
        "\n",
        "NumPy ndarray allows for element-wise operations without the need for explicit loops. These vectorized operations are much faster than traditional Python loops.\n",
        "Example: Adding two arrays element-wise:\n",
        "'''\n",
        "import numpy as np\n",
        "arr1 = np.array([1, 2, 3])\n",
        "arr2 = np.array([4, 5, 6])\n",
        "result = arr1 + arr2  # Output: [5, 7, 9]\n",
        "\n",
        "#Memory Efficient:\n",
        "'''\n",
        "ndarray uses a fixed-size block of memory to store its elements, making it more memory efficient than Python lists. Additionally, you can explicitly define data types to\n",
        "reduce memory usage (e.g., float32 vs. float64).\n",
        "Shape and Dimensions:\n",
        "\n",
        "Each ndarray has an associated shape (number of rows, columns, etc.) and dimensions (ndim), which describe the structure of the array.\n",
        "'''\n",
        "#Example:\n",
        "arr = np.array([[1, 2], [3, 4]])\n",
        "print(arr.shape)  # Output: (2, 2)\n",
        "print(arr.ndim)   # Output: 2 (2D array)\n",
        "\n",
        "#Broadcasting:\n",
        "\n",
        "#NumPy supports broadcasting, a feature that allows operations between arrays of different shapes as long as their dimensions are compatible.\n",
        "#Example:\n",
        "\n",
        "arr = np.array([[1, 2], [3, 4]])\n",
        "scalar = 5\n",
        "result = arr + scalar  # Output: [[6, 7], [8, 9]]\n",
        "\n",
        "#Mathematical Functions:\n",
        "\n",
        "#NumPy provides numerous mathematical functions (e.g., np.sum(), np.mean(), np.sin()) that operate directly on ndarray objects, taking advantage of vectorization.\n",
        "#Example:\n",
        "\n",
        "arr = np.array([1, 2, 3, 4])\n",
        "print(np.mean(arr))  # Output: 2.5\n",
        "\n",
        "#Slicing and Indexing:\n",
        "\n",
        "#Like Python lists, ndarray supports slicing and indexing to access specific elements or subarrays. However, slicing in ndarray returns a view, not a copy, which is more efficient.\n",
        "#Example:\n",
        "\n",
        "arr = np.array([1, 2, 3, 4, 5])\n",
        "sub_arr = arr[1:4]  # Output: [2, 3, 4]\n",
        "\n",
        "#How ndarray Differs from Python Lists:\n",
        "#Homogeneous vs. Heterogeneous Data:\n",
        "'''\n",
        "ndarray: All elements must be of the same data type.\n",
        "Python List: Can contain elements of different types (e.g., int, str, float).\n",
        "'''\n",
        "\n",
        "list1 = [1, \"hello\", 3.5]  # Valid in Python list, but not in ndarray\n",
        "#Memory Usage:\n",
        "'''\n",
        "ndarray: Uses contiguous memory blocks, which are more memory-efficient.\n",
        "Python List: Stores elements as references to objects, leading to higher memory overhead.\n",
        "Performance:\n",
        "\n",
        "ndarray: Optimized for numerical computations. Vectorized operations allow for faster mathematical operations compared to loops in Python lists.\n",
        "Python List: Slower in performing element-wise mathematical operations since explicit loops are required.\n",
        "Example:\n",
        "'''\n",
        "\n",
        "arr = np.array([1, 2, 3])\n",
        "result = arr * 2  # Element-wise multiplication: Output [2, 4, 6]\n",
        "\n",
        "# Python List:\n",
        "lst = [1, 2, 3]\n",
        "result_lst = [x * 2 for x in lst]  # Slower, requires looping\n",
        "\n",
        "#Mathematical Operations:\n",
        "'''\n",
        "ndarray: Supports element-wise operations like addition, multiplication, etc.\n",
        "Python List: These operations are not natively supported; you have to manually loop over elements.\n",
        "Dimensionality:\n",
        "\n",
        "ndarray: Can handle multidimensional arrays (1D, 2D, 3D, etc.).\n",
        "Python List: Can simulate multidimensional arrays, but without any built-in structure or optimized handling.\n",
        "Example (2D array):\n",
        "'''\n",
        "arr_2d = np.array([[1, 2], [3, 4]])\n",
        "print(arr_2d.shape)  # Output: (2, 2)\n",
        "\n",
        "# In Python List, you would need nested lists:\n",
        "list_2d = [[1, 2], [3, 4]]"
      ],
      "metadata": {
        "colab": {
          "base_uri": "https://localhost:8080/"
        },
        "id": "p4caGz4DI9fW",
        "outputId": "27280089-2121-40b3-b07c-a289fa7e42cb"
      },
      "execution_count": null,
      "outputs": [
        {
          "output_type": "stream",
          "name": "stdout",
          "text": [
            "(2, 2)\n",
            "2\n",
            "2.5\n",
            "(2, 2)\n"
          ]
        }
      ]
    },
    {
      "cell_type": "code",
      "source": [
        "#QUESTION 6\n",
        "# Analyze the performance benefits of NumPy arrays over Python lists for large-scale numerical operations\n",
        "'''\n",
        "NumPy arrays (ndarray) offer significant performance benefits over Python lists, especially for large-scale numerical operations. These benefits arise from their underlying\n",
        "implementation and optimizations for handling numerical data efficiently. Let's explore these performance advantages in detail:\n",
        "\n",
        "1. Memory Efficiency\n",
        "NumPy arrays are stored in contiguous blocks of memory, and all elements have the same data type (e.g., int32, float64), leading to more efficient memory usage.\n",
        "Python lists, on the other hand, are arrays of pointers to Python objects, each with metadata such as type, size, and reference count. This introduces overhead, especially for\n",
        "large lists.\n",
        "'''\n",
        "#Example: Memory Usage Comparison\n",
        "import numpy as np\n",
        "import sys\n",
        "\n",
        "# NumPy array\n",
        "arr_np = np.arange(1000000, dtype='int32')\n",
        "print(\"NumPy array memory usage:\", arr_np.nbytes, \"bytes\")  # Output: ~4MB\n",
        "\n",
        "# Python list\n",
        "arr_py = list(range(1000000))\n",
        "print(\"Python list memory usage:\", sys.getsizeof(arr_py), \"bytes\")  # Output: ~8MB\n",
        "#NumPy uses around half the memory compared to a Python list of the same length, which is significant for large datasets.\n",
        "'''\n",
        "2. Speed and Vectorization\n",
        "NumPy arrays support vectorized operations, meaning that mathematical and logical operations are applied element-wise to the entire array without the need for explicit loops.\n",
        "This is much faster than using for-loops with Python lists, where operations are performed element by element.\n",
        "'''\n",
        "#Example: Element-Wise Addition\n",
        "import numpy as np\n",
        "import time\n",
        "\n",
        "# NumPy array\n",
        "arr_np = np.arange(1000000)\n",
        "\n",
        "# Python list\n",
        "arr_py = list(range(1000000))\n",
        "\n",
        "# Timing NumPy operation\n",
        "start_time = time.time()\n",
        "arr_np = arr_np * 2  # Element-wise multiplication\n",
        "print(\"NumPy operation time:\", time.time() - start_time)\n",
        "\n",
        "# Timing Python list operation\n",
        "start_time = time.time()\n",
        "arr_py = [x * 2 for x in arr_py]  # List comprehension\n",
        "print(\"Python list operation time:\", time.time() - start_time)\n",
        "\n",
        "#In this example, NumPy performs the operation much faster because it avoids the overhead of looping in Python and leverages optimized C-based routines to perform\n",
        "#operations directly in memory.\n",
        "'''\n",
        "3. Efficient Broadcasting\n",
        "NumPy supports broadcasting, which allows for operations between arrays of different shapes and sizes without copying data. Broadcasting optimizes memory use\n",
        "and simplifies mathematical operations, leading to more efficient computations compared to Python lists.\n",
        "'''\n",
        "#Example: Broadcasting in NumPy\n",
        "\n",
        "import numpy as np\n",
        "\n",
        "# Broadcasting a scalar to a NumPy array\n",
        "arr_np = np.array([1, 2, 3, 4])\n",
        "result_np = arr_np + 5  # Adds 5 to every element\n",
        "\n",
        "print(\"NumPy result with broadcasting:\", result_np)  # Output: [6 7 8 9]\n",
        "#With Python lists, you would have to loop through each element to perform the same operation, making the code slower and more cumbersome.\n",
        "'''\n",
        "4. Lower-Level Optimizations (Written in C)\n",
        "NumPy is implemented in C, which allows it to avoid Python's interpreter overhead. This results in faster execution times for numerical computations. Python lists, being higher-level, are slower due to the need for Python's dynamic typing and memory management.\n",
        "\n",
        "NumPy arrays are optimized for CPU cache performance, taking advantage of SIMD (Single Instruction Multiple Data) instructions, which allow for faster processing of large data blocks.\n",
        "Python lists, however, cannot take advantage of such optimizations, and every element access or modification involves more overhead.\n",
        "5. Specialized Mathematical Functions\n",
        "NumPy provides highly optimized mathematical functions (such as np.sum(), np.mean(), np.dot(), etc.) that operate on entire arrays at once, further reducing the need for loops and improving performance. These functions are often implemented in compiled C or Fortran, providing a significant speed boost compared to pure Python implementations.\n",
        "'''\n",
        "#Example: Summing Large Arrays\n",
        "import numpy as np\n",
        "import time\n",
        "\n",
        "# NumPy array\n",
        "arr_np = np.arange(1000000)\n",
        "\n",
        "# Python list\n",
        "arr_py = list(range(1000000))\n",
        "\n",
        "# Timing NumPy sum\n",
        "start_time = time.time()\n",
        "np.sum(arr_np)\n",
        "print(\"NumPy sum time:\", time.time() - start_time)\n",
        "\n",
        "# Timing Python list sum\n",
        "start_time = time.time()\n",
        "sum(arr_py)\n",
        "print(\"Python list sum time:\", time.time() - start_time)\n",
        "#NumPy's np.sum() is much faster than Python's built-in sum() due to the highly optimized C-based implementation.\n",
        "'''\n",
        "6. Multidimensional Array Support\n",
        "NumPy is designed for handling multidimensional arrays (e.g., 2D, 3D, etc.) efficiently, with built-in support for slicing, reshaping, and\n",
        "performing operations along different axes. In Python, creating and manipulating multidimensional lists requires complex, manual work with nested lists.\n",
        "'''\n",
        "#Example: 2D Array Manipulation\n",
        "\n",
        "import numpy as np\n",
        "\n",
        "# 2D NumPy array\n",
        "arr_np = np.array([[1, 2, 3], [4, 5, 6]])\n",
        "\n",
        "# Transpose the array\n",
        "arr_np_transposed = arr_np.T  # Efficient in NumPy\n",
        "print(arr_np_transposed)\n",
        "#With Python lists, the same operation would require explicit loops and complex code.\n",
        "'''\n",
        "7. Memory Views and Slicing\n",
        "In NumPy, slicing an array returns a view (a reference to the original data), rather than copying the data. This is more memory-efficient\n",
        "and faster compared to Python lists, where slicing results in a new list with copied elements.\n",
        "'''\n",
        "#Example: Slicing Efficiency\n",
        "\n",
        "import numpy as np\n",
        "\n",
        "# NumPy array slicing (returns a view, no data copying)\n",
        "arr_np = np.arange(1000000)\n",
        "sub_arr_np = arr_np[100:200]\n",
        "\n",
        "# Python list slicing (returns a new list, copies data)\n",
        "arr_py = list(range(1000000))\n",
        "sub_arr_py = arr_py[100:200]\n",
        "#In NumPy, slicing is much faster because it avoids copying data, which is not the case with Python lists."
      ],
      "metadata": {
        "id": "VDFEs9XxKh__",
        "colab": {
          "base_uri": "https://localhost:8080/"
        },
        "outputId": "188cde12-fa8c-4a36-ac75-d86e76e1ba86"
      },
      "execution_count": 1,
      "outputs": [
        {
          "output_type": "stream",
          "name": "stdout",
          "text": [
            "NumPy array memory usage: 4000000 bytes\n",
            "Python list memory usage: 8000056 bytes\n",
            "NumPy operation time: 0.007699251174926758\n",
            "Python list operation time: 0.18040680885314941\n",
            "NumPy result with broadcasting: [6 7 8 9]\n",
            "NumPy sum time: 0.0013432502746582031\n",
            "Python list sum time: 0.013324737548828125\n",
            "[[1 4]\n",
            " [2 5]\n",
            " [3 6]]\n"
          ]
        }
      ]
    },
    {
      "cell_type": "code",
      "source": [
        "# QUESTION 7\n",
        "# Compare vstack() and hstack() functions in NumPy. Provide examples demonstrating their usage and output.\n",
        "'''\n",
        "In NumPy, both vstack() and hstack() are functions used to stack arrays along different axes. They allow you to combine multiple arrays into a single array but in different orientations.\n",
        "\n",
        "1. np.vstack() (Vertical Stack)\n",
        "vstack() stacks arrays vertically, i.e., row-wise.\n",
        "The arrays are joined along the vertical axis (axis 0). This is equivalent to concatenation along rows.\n",
        "'''\n",
        "#Example:\n",
        "\n",
        "import numpy as np\n",
        "\n",
        "# Create two 1D arrays\n",
        "array1 = np.array([1, 2, 3])\n",
        "array2 = np.array([4, 5, 6])\n",
        "\n",
        "# Vertically stack the arrays\n",
        "result = np.vstack((array1, array2))\n",
        "\n",
        "print(result)\n",
        "\n",
        "#Here, vstack() stacks the arrays one on top of the other, resulting in a 2D array with two rows.\n",
        "\n",
        "#For 2D arrays:\n",
        "\n",
        "# Create two 2D arrays\n",
        "array1 = np.array([[1, 2], [3, 4]])\n",
        "array2 = np.array([[5, 6]])\n",
        "\n",
        "# Vertically stack the arrays\n",
        "result = np.vstack((array1, array2))\n",
        "\n",
        "print(result)\n",
        "\n",
        "#In this case, vstack() stacks the second array below the first one.\n",
        "'''\n",
        "2. np.hstack() (Horizontal Stack)\n",
        "hstack() stacks arrays horizontally, i.e., column-wise.\n",
        "The arrays are joined along the horizontal axis (axis 1). This is equivalent to concatenation along columns.\n",
        "'''\n",
        "#Example:\n",
        "\n",
        "# Create two 1D arrays\n",
        "array1 = np.array([1, 2, 3])\n",
        "array2 = np.array([4, 5, 6])\n",
        "\n",
        "# Horizontally stack the arrays\n",
        "result = np.hstack((array1, array2))\n",
        "\n",
        "print(result)\n",
        "\n",
        "#In this case, hstack() creates a single row by appending the second array to the first.\n",
        "\n",
        "#For 2D arrays:\n",
        "# Create two 2D arrays\n",
        "array1 = np.array([[1, 2], [3, 4]])\n",
        "array2 = np.array([[5, 6], [7, 8]])\n",
        "\n",
        "# Horizontally stack the arrays\n",
        "result = np.hstack((array1, array2))\n",
        "\n",
        "print(result)\n",
        "\n",
        "#Here, hstack() appends the columns of the second array to the columns of the first one, resulting in a 2D array with more columns.\n",
        "'''\n",
        "Key Differences\n",
        "vstack() stacks arrays along the vertical axis (axis 0) — row-wise. This increases the number of rows.\n",
        "hstack() stacks arrays along the horizontal axis (axis 1) — column-wise. This increases the number of columns.\n",
        "When to Use:\n",
        "Use vstack() when you want to add rows to an array.\n",
        "Use hstack() when you want to add columns to an array.\n",
        "Both functions are commonly used when combining data or results from multiple operations, especially when reshaping data for analysis or modeling.\n",
        "'''\n",
        "\n"
      ],
      "metadata": {
        "colab": {
          "base_uri": "https://localhost:8080/",
          "height": 209
        },
        "id": "y9FEXiw3X365",
        "outputId": "f4915511-963b-402d-a509-235e8fc27028"
      },
      "execution_count": 3,
      "outputs": [
        {
          "output_type": "stream",
          "name": "stdout",
          "text": [
            "[[1 2 3]\n",
            " [4 5 6]]\n",
            "[[1 2]\n",
            " [3 4]\n",
            " [5 6]]\n",
            "[1 2 3 4 5 6]\n",
            "[[1 2 5 6]\n",
            " [3 4 7 8]]\n"
          ]
        },
        {
          "output_type": "execute_result",
          "data": {
            "text/plain": [
              "'\\nKey Differences\\nvstack() stacks arrays along the vertical axis (axis 0) — row-wise. This increases the number of rows.\\nhstack() stacks arrays along the horizontal axis (axis 1) — column-wise. This increases the number of columns.\\nWhen to Use:\\nUse vstack() when you want to add rows to an array.\\nUse hstack() when you want to add columns to an array.\\nBoth functions are commonly used when combining data or results from multiple operations, especially when reshaping data for analysis or modeling.\\n'"
            ],
            "application/vnd.google.colaboratory.intrinsic+json": {
              "type": "string"
            }
          },
          "metadata": {},
          "execution_count": 3
        }
      ]
    },
    {
      "cell_type": "code",
      "source": [
        "#QUESTION 8\n",
        "# Explain the differences between fliplr() and flipud() methods in NumPy, including their effects on various array dimensions.\n",
        "\n",
        "#Differences between fliplr() and flipud():\n",
        "'''\n",
        "fliplr() flips an array horizontally, meaning it reverses the order of columns. It's typically used for 2D arrays and higher-dimensional arrays.\n",
        "\n",
        "flipud() flips an array vertically, meaning it reverses the order of rows. Like fliplr(), it's also used for 2D arrays and beyond.\n",
        "'''\n",
        "\n",
        "#fliplr() Example:\n",
        "\n",
        "import numpy as np\n",
        "\n",
        "array_2d = np.array([[1, 2, 3],\n",
        "                     [4, 5, 6],\n",
        "                     [7, 8, 9]])\n",
        "\n",
        "flipped_lr = np.fliplr(array_2d)\n",
        "print(\"Original Array:\\n\", array_2d)\n",
        "print(\"Flipped Left-Right:\\n\", flipped_lr)\n",
        "\n",
        "#flipud() Example:\n",
        "\n",
        "flipped_ud = np.flipud(array_2d)\n",
        "print(\"Flipped Up-Down:\\n\", flipped_ud)\n",
        "'''\n",
        "Key Points:\n",
        "fliplr() flips an array horizontally (left-right) by reversing the order of columns.\n",
        "flipud() flips an array vertically (up-down) by reversing the order of rows.\n",
        "For 1D arrays, both functions have the same effect of reversing the elements because there is only one axis.\n",
        "For 3D arrays, each function affects only the specific axis they are meant to flip.\n",
        "'''"
      ],
      "metadata": {
        "colab": {
          "base_uri": "https://localhost:8080/",
          "height": 278
        },
        "id": "VsL4tPZFZCvS",
        "outputId": "5d700a64-ab42-4c9b-d256-f74e8f26b8a0"
      },
      "execution_count": 4,
      "outputs": [
        {
          "output_type": "stream",
          "name": "stdout",
          "text": [
            "Original Array:\n",
            " [[1 2 3]\n",
            " [4 5 6]\n",
            " [7 8 9]]\n",
            "Flipped Left-Right:\n",
            " [[3 2 1]\n",
            " [6 5 4]\n",
            " [9 8 7]]\n",
            "Flipped Up-Down:\n",
            " [[7 8 9]\n",
            " [4 5 6]\n",
            " [1 2 3]]\n"
          ]
        },
        {
          "output_type": "execute_result",
          "data": {
            "text/plain": [
              "'\\nKey Points:\\nfliplr() flips an array horizontally (left-right) by reversing the order of columns.\\nflipud() flips an array vertically (up-down) by reversing the order of rows.\\nFor 1D arrays, both functions have the same effect of reversing the elements because there is only one axis.\\nFor 3D arrays, each function affects only the specific axis they are meant to flip.\\n'"
            ],
            "application/vnd.google.colaboratory.intrinsic+json": {
              "type": "string"
            }
          },
          "metadata": {},
          "execution_count": 4
        }
      ]
    },
    {
      "cell_type": "code",
      "source": [
        "#QUESTION 9\n",
        "#Discuss the functionality of the array_split() method in NumPy. How does it handle uneven splits?\n",
        "'''\n",
        "The array_split() method in NumPy is used to split an array into multiple sub-arrays. Unlike split(), which requires that the splits divide the\n",
        "array evenly, array_split() can handle uneven splits by distributing the remainder across the sub-arrays.\n",
        "\n",
        "Key Functionality of array_split():\n",
        "General Behavior:\n",
        "The method splits an array into specified sections. You can define the number of sections you want the array to be split into.\n",
        "If the array cannot be split evenly, array_split() will divide the array as equally as possible, with the remaining elements distributed across the earlier sub-arrays.\n",
        "'''\n",
        "#np.array_split(array, sections)\n",
        "'''\n",
        "array: The input array you want to split.\n",
        "sections: The number of equal parts (or sections) you want to split the array into.\n",
        "Handling Uneven Splits:\n",
        "If the array size isn't divisible by the number of sections, array_split() will create sub-arrays where the extra elements are distributed starting from the first sub-array. As a result, some sub-arrays may have one more element than others.\n",
        "'''\n",
        "#Example of Even Split:\n",
        "\n",
        "import numpy as np\n",
        "\n",
        "# Create an array\n",
        "array = np.array([1, 2, 3, 4, 5, 6])\n",
        "\n",
        "# Split into 3 equal parts\n",
        "result = np.array_split(array, 3)\n",
        "\n",
        "print(result)\n",
        "\n",
        "#In this case, the array is divided evenly into 3 sub-arrays.\n",
        "\n",
        "#Example of Uneven Split:\n",
        "\n",
        "# Create an array\n",
        "array = np.array([1, 2, 3, 4, 5, 6, 7])\n",
        "\n",
        "# Split into 3 parts (not evenly divisible)\n",
        "result = np.array_split(array, 3)\n",
        "\n",
        "print(result)\n",
        "\n",
        "#Here, the array size (7) isn't divisible by 3, so the first sub-array gets an extra element. The first sub-array has 3 elements, while the others have 2.\n",
        "'''\n",
        "Differences from split():\n",
        "The split() method throws an error if the array cannot be split evenly into the specified sections, while array_split() handles uneven splits gracefully\n",
        "by distributing the remainder.\n",
        "Use Case:\n",
        "array_split() is useful when you don't know the exact number of elements or when the size of the array might not divide evenly by the desired number of\n",
        "splits. It ensures that every part gets a nearly equal number of elements.\n",
        "'''"
      ],
      "metadata": {
        "colab": {
          "base_uri": "https://localhost:8080/",
          "height": 105
        },
        "id": "rNnJhz21awAc",
        "outputId": "c40a9577-8a67-49a1-ef78-f62104001687"
      },
      "execution_count": 6,
      "outputs": [
        {
          "output_type": "stream",
          "name": "stdout",
          "text": [
            "[array([1, 2]), array([3, 4]), array([5, 6])]\n",
            "[array([1, 2, 3]), array([4, 5]), array([6, 7])]\n"
          ]
        },
        {
          "output_type": "execute_result",
          "data": {
            "text/plain": [
              "\"\\nDifferences from split():\\nThe split() method throws an error if the array cannot be split evenly into the specified sections, while array_split() handles uneven splits gracefully \\nby distributing the remainder.\\nUse Case:\\narray_split() is useful when you don't know the exact number of elements or when the size of the array might not divide evenly by the desired number of \\nsplits. It ensures that every part gets a nearly equal number of elements.\\n\""
            ],
            "application/vnd.google.colaboratory.intrinsic+json": {
              "type": "string"
            }
          },
          "metadata": {},
          "execution_count": 6
        }
      ]
    },
    {
      "cell_type": "code",
      "source": [
        "#QUESTION 10\n",
        "#Explain the concepts of vectorization and broadcasting in NumPy. How do they contribute to efficient array operations?\n",
        "'''\n",
        "1. Vectorization in NumPy:\n",
        "Vectorization is the process of performing operations on entire arrays (or large chunks of data) without using explicit loops. This allows you to apply operations\n",
        "element-wise on arrays, leveraging optimized low-level implementations to significantly speed up computation.\n",
        "\n",
        "In traditional Python, loops are used to iterate over data. However, in NumPy, vectorized operations replace these loops, making the code not only more efficient\n",
        "but also more concise and readable.\n",
        "'''\n",
        "#Example of Vectorization:\n",
        "\n",
        "import numpy as np\n",
        "\n",
        "# Create two arrays\n",
        "a = np.array([1, 2, 3, 4])\n",
        "b = np.array([5, 6, 7, 8])\n",
        "\n",
        "# Vectorized addition\n",
        "result = a + b\n",
        "print(result)\n",
        "\n",
        "#Here, the addition of two arrays is done element-wise without the need for loops. This vectorized operation is much faster than writing a loop to add individual elements.\n",
        "'''\n",
        "Advantages of Vectorization:\n",
        "Speed: Operations are performed using low-level C or Fortran routines optimized for performance.\n",
        "Code simplicity: Complex operations can be written concisely in one line of code, reducing errors and improving readability.\n",
        "2. Broadcasting in NumPy:\n",
        "Broadcasting is a feature that allows NumPy to perform operations on arrays of different shapes, by \"stretching\" or replicating the smaller array across\n",
        "the larger one, without physically copying the data. It enables element-wise operations between arrays with different shapes.\n",
        "\n",
        "For broadcasting to work, the smaller array's shape must either match the larger array's shape or be compatible following specific rules:\n",
        "\n",
        "If the two arrays have a different number of dimensions, the smaller array is padded with extra dimensions at the beginning.\n",
        "If the shape of the arrays doesn’t match, the dimension of size 1 in the smaller array is “stretched” to match the size of the corresponding dimension in the larger array.\n",
        "'''\n",
        "#Example of Broadcasting:\n",
        "\n",
        "import numpy as np\n",
        "\n",
        "# Create an array\n",
        "a = np.array([1, 2, 3])\n",
        "\n",
        "# Create a scalar\n",
        "b = 5\n",
        "\n",
        "# Broadcasting: scalar b is applied to each element of array a\n",
        "result = a + b\n",
        "print(result)\n",
        "\n",
        "\n",
        "#In this example, the scalar b is broadcasted across the array a, meaning 5 is added to each element of a without needing an explicit loop.\n",
        "\n",
        "#More Complex Example of Broadcasting:\n",
        "\n",
        "# Create a 2D array\n",
        "a = np.array([[1, 2, 3], [4, 5, 6]])\n",
        "\n",
        "# Create a 1D array\n",
        "b = np.array([1, 2, 3])\n",
        "\n",
        "# Broadcasting: the 1D array is stretched to match the shape of the 2D array\n",
        "result = a + b\n",
        "print(result)\n",
        "\n",
        "#Here, the 1D array b is broadcasted across the rows of the 2D array a, adding element-wise.\n",
        "'''\n",
        "Advantages of Broadcasting:\n",
        "Memory efficiency: Broadcasting avoids creating copies of arrays, instead operating on views of the original data.\n",
        "Simplified code: It allows you to perform operations on arrays with different shapes without having to manually resize or reshape them.\n",
        "How Vectorization and Broadcasting Contribute to Efficient Array Operations:\n",
        "Speed: Both vectorization and broadcasting eliminate the need for explicit Python loops, allowing operations to be carried out by optimized C-level code, which runs much faster.\n",
        "\n",
        "Memory Efficiency: Broadcasting allows for operations on arrays of different shapes without creating unnecessary copies, which saves memory.\n",
        "\n",
        "Conciseness: These concepts make the code more concise and easier to write, maintain, and debug.\n",
        "'''"
      ],
      "metadata": {
        "colab": {
          "base_uri": "https://localhost:8080/",
          "height": 174
        },
        "id": "zw0UYDCNbov2",
        "outputId": "3f97ed74-dc72-4262-c925-a5f5e496a0e0"
      },
      "execution_count": 7,
      "outputs": [
        {
          "output_type": "stream",
          "name": "stdout",
          "text": [
            "[ 6  8 10 12]\n",
            "[6 7 8]\n",
            "[[2 4 6]\n",
            " [5 7 9]]\n"
          ]
        },
        {
          "output_type": "execute_result",
          "data": {
            "text/plain": [
              "'\\nAdvantages of Broadcasting:\\nMemory efficiency: Broadcasting avoids creating copies of arrays, instead operating on views of the original data.\\nSimplified code: It allows you to perform operations on arrays with different shapes without having to manually resize or reshape them.\\nHow Vectorization and Broadcasting Contribute to Efficient Array Operations:\\nSpeed: Both vectorization and broadcasting eliminate the need for explicit Python loops, allowing operations to be carried out by optimized C-level code, which runs much faster.\\n\\nMemory Efficiency: Broadcasting allows for operations on arrays of different shapes without creating unnecessary copies, which saves memory.\\n\\nConciseness: These concepts make the code more concise and easier to write, maintain, and debug.\\n'"
            ],
            "application/vnd.google.colaboratory.intrinsic+json": {
              "type": "string"
            }
          },
          "metadata": {},
          "execution_count": 7
        }
      ]
    },
    {
      "cell_type": "markdown",
      "source": [
        "**PRACTICAL QUESTION**"
      ],
      "metadata": {
        "id": "NktmlcL3eZj8"
      }
    },
    {
      "cell_type": "code",
      "source": [
        "#QUESTION 1\n",
        "# Create a 3x3 NumPy array with random integers between 1 and 100. Then, interchange its rows and columns.\n",
        "import numpy as np\n",
        "arr=np.random.randint(1,100,(3,3))\n",
        "# interchanging raw and columns\n",
        "arr1=arr.T\n",
        "arr #3x3 array with random integers\n",
        "arr1 # transpose of arr"
      ],
      "metadata": {
        "colab": {
          "base_uri": "https://localhost:8080/"
        },
        "id": "Xll56d74bqIk",
        "outputId": "48a40763-2b85-4d63-fb7a-240b2b5b7c05"
      },
      "execution_count": 15,
      "outputs": [
        {
          "output_type": "execute_result",
          "data": {
            "text/plain": [
              "array([[49,  4, 59],\n",
              "       [32, 32, 55],\n",
              "       [58, 67, 21]])"
            ]
          },
          "metadata": {},
          "execution_count": 15
        }
      ]
    },
    {
      "cell_type": "code",
      "source": [
        "# QUESTION 2\n",
        "#Generate a 1D NumPy array with 10 elements. Reshape it into a 2x5 array, then into a 5x2 array\n",
        "arr2=np.arange(10)\n",
        "arr2\n",
        "arr2.reshape(2,5) #reshape it into 2x5\n",
        "arr2.reshape(5,2) #reshape it into 5x2"
      ],
      "metadata": {
        "colab": {
          "base_uri": "https://localhost:8080/"
        },
        "id": "FwrcqFdoe58_",
        "outputId": "e329be30-8f45-4e3a-eb85-ad87370eb91c"
      },
      "execution_count": 17,
      "outputs": [
        {
          "output_type": "execute_result",
          "data": {
            "text/plain": [
              "array([[0, 1],\n",
              "       [2, 3],\n",
              "       [4, 5],\n",
              "       [6, 7],\n",
              "       [8, 9]])"
            ]
          },
          "metadata": {},
          "execution_count": 17
        }
      ]
    },
    {
      "cell_type": "code",
      "source": [
        "# QUESTION 3\n",
        "# Create a 4x4 NumPy array with random float values. Add a border of zeros around it, resulting in a 6x6 array.\n",
        "arr3=np.random.rand(4,4)\n",
        "arr3\n",
        "arr3,np.pad(arr3,pad_width=1,constant_values=0)"
      ],
      "metadata": {
        "colab": {
          "base_uri": "https://localhost:8080/"
        },
        "id": "mdHIOnLkhQGS",
        "outputId": "ca197cd0-45f6-4943-cc3c-01dad0f4c4d9"
      },
      "execution_count": 19,
      "outputs": [
        {
          "output_type": "execute_result",
          "data": {
            "text/plain": [
              "(array([[0.98295803, 0.42092234, 0.98049825, 0.66917559],\n",
              "        [0.03135296, 0.79277238, 0.66752496, 0.43645359],\n",
              "        [0.45821445, 0.26640105, 0.44867981, 0.42578816],\n",
              "        [0.32759665, 0.81260725, 0.53127026, 0.39601539]]),\n",
              " array([[0.        , 0.        , 0.        , 0.        , 0.        ,\n",
              "         0.        ],\n",
              "        [0.        , 0.98295803, 0.42092234, 0.98049825, 0.66917559,\n",
              "         0.        ],\n",
              "        [0.        , 0.03135296, 0.79277238, 0.66752496, 0.43645359,\n",
              "         0.        ],\n",
              "        [0.        , 0.45821445, 0.26640105, 0.44867981, 0.42578816,\n",
              "         0.        ],\n",
              "        [0.        , 0.32759665, 0.81260725, 0.53127026, 0.39601539,\n",
              "         0.        ],\n",
              "        [0.        , 0.        , 0.        , 0.        , 0.        ,\n",
              "         0.        ]]))"
            ]
          },
          "metadata": {},
          "execution_count": 19
        }
      ]
    },
    {
      "cell_type": "code",
      "source": [
        "# QUESTION 4\n",
        "# Using NumPy, create an array of integers from 10 to 60 with a step of 5\n",
        "arr4=np.arange(10,60,5)\n",
        "arr4"
      ],
      "metadata": {
        "colab": {
          "base_uri": "https://localhost:8080/"
        },
        "id": "E27rVkzKhqLw",
        "outputId": "c5c4c903-02c9-4152-819e-cf0c9ccce0d4"
      },
      "execution_count": 21,
      "outputs": [
        {
          "output_type": "execute_result",
          "data": {
            "text/plain": [
              "array([10, 15, 20, 25, 30, 35, 40, 45, 50, 55])"
            ]
          },
          "metadata": {},
          "execution_count": 21
        }
      ]
    },
    {
      "cell_type": "code",
      "source": [
        "# QUESTION 5\n",
        "#reate a NumPy array of strings ['python', 'numpy', 'pandas']. Apply different case transformations (uppercase, lowercase, title case, etc.) to each element.\n",
        "arr5=np.array(['python','numpy','pandas'])\n",
        "arr5\n",
        "a=np.char.upper(arr5) #uppercase\n",
        "b=np.char.lower(arr5) #lowercase\n",
        "c=np.char.title(arr5) #title case\n",
        "a,b,c"
      ],
      "metadata": {
        "colab": {
          "base_uri": "https://localhost:8080/"
        },
        "id": "rkOEEjtxklBI",
        "outputId": "6a24ffeb-a08d-4ee9-cb03-da250727f602"
      },
      "execution_count": 24,
      "outputs": [
        {
          "output_type": "execute_result",
          "data": {
            "text/plain": [
              "(array(['PYTHON', 'NUMPY', 'PANDAS'], dtype='<U6'),\n",
              " array(['python', 'numpy', 'pandas'], dtype='<U6'),\n",
              " array(['Python', 'Numpy', 'Pandas'], dtype='<U6'))"
            ]
          },
          "metadata": {},
          "execution_count": 24
        }
      ]
    },
    {
      "cell_type": "code",
      "source": [
        "#QUESTION 6\n",
        "#Generate a NumPy array of words. Insert a space between each character of every word in the array.\n",
        "arr=np.array(['python','numpy','pandas'])\n",
        "arr\n",
        "np.char.join(' ',arr)"
      ],
      "metadata": {
        "colab": {
          "base_uri": "https://localhost:8080/"
        },
        "id": "IYhQQSn0lY5E",
        "outputId": "4d608b3e-f58b-4d44-a425-e712258149b5"
      },
      "execution_count": 28,
      "outputs": [
        {
          "output_type": "execute_result",
          "data": {
            "text/plain": [
              "array(['p y t h o n', 'n u m p y', 'p a n d a s'], dtype='<U11')"
            ]
          },
          "metadata": {},
          "execution_count": 28
        }
      ]
    },
    {
      "cell_type": "code",
      "source": [
        "#QUESTION 7\n",
        "#Create two 2D NumPy arrays and perform element-wise addition, subtraction, multiplication, and division.\n",
        "arr=np.random.randint(1,20,(3,3))\n",
        "arr1=np.random.randint(1,20,(3,3))\n",
        "arr,arr1\n",
        "a=arr+arr1 #addition\n",
        "b=arr-arr1 #subtraction\n",
        "c=arr*arr1 #multiplication\n",
        "d=arr/arr1 #division\n",
        "a,b,c,d"
      ],
      "metadata": {
        "colab": {
          "base_uri": "https://localhost:8080/"
        },
        "id": "8Ws1jGKrml-Z",
        "outputId": "5149e96c-fa70-4f49-8299-76fb3a1d01e2"
      },
      "execution_count": 36,
      "outputs": [
        {
          "output_type": "execute_result",
          "data": {
            "text/plain": [
              "(array([[29, 15,  5],\n",
              "        [20, 35, 21],\n",
              "        [19, 32, 27]]),\n",
              " array([[-3,  9,  1],\n",
              "        [-6, -3, -7],\n",
              "        [ 9, -6,  3]]),\n",
              " array([[208,  36,   6],\n",
              "        [ 91, 304,  98],\n",
              "        [ 70, 247, 180]]),\n",
              " array([[0.8125    , 4.        , 1.5       ],\n",
              "        [0.53846154, 0.84210526, 0.5       ],\n",
              "        [2.8       , 0.68421053, 1.25      ]]))"
            ]
          },
          "metadata": {},
          "execution_count": 36
        }
      ]
    },
    {
      "cell_type": "code",
      "source": [
        "#QUESTION 8\n",
        "# Use NumPy to create a 5x5 identity matrix, then extract its diagonal elements.\n",
        "arr=np.eye(5,dtype=int)\n",
        "arr\n",
        "arr,np.diag(arr)"
      ],
      "metadata": {
        "colab": {
          "base_uri": "https://localhost:8080/"
        },
        "id": "Hwqx5b3umodO",
        "outputId": "f80ea37f-6c14-4540-96e6-9fba59bdb317"
      },
      "execution_count": 39,
      "outputs": [
        {
          "output_type": "execute_result",
          "data": {
            "text/plain": [
              "(array([[1, 0, 0, 0, 0],\n",
              "        [0, 1, 0, 0, 0],\n",
              "        [0, 0, 1, 0, 0],\n",
              "        [0, 0, 0, 1, 0],\n",
              "        [0, 0, 0, 0, 1]]),\n",
              " array([1, 1, 1, 1, 1]))"
            ]
          },
          "metadata": {},
          "execution_count": 39
        }
      ]
    },
    {
      "cell_type": "code",
      "source": [
        "#QUESTION 9\n",
        "# Generate a NumPy array of 100 random integers between 0 and 1000. Find and display all prime numbers in this array.\n",
        "import numpy as np\n",
        "\n",
        "# Generate a NumPy array of 100 random integers between 0 and 1000\n",
        "random_integers = np.random.randint(0, 1001, size=100)\n",
        "\n",
        "# Function to check if a number is prime\n",
        "def is_prime(n):\n",
        "    if n <= 1:\n",
        "        return False\n",
        "    for i in range(2, int(n**0.5) + 1):\n",
        "        if n % i == 0:\n",
        "            return False\n",
        "    return True\n",
        "\n",
        "# Find all prime numbers in the array\n",
        "prime_numbers = [num for num in random_integers if is_prime(num)]\n",
        "\n",
        "# Display the results\n",
        "print(\"Random Integers:\", random_integers)\n",
        "print(\"Prime Numbers:\", prime_numbers)\n"
      ],
      "metadata": {
        "colab": {
          "base_uri": "https://localhost:8080/"
        },
        "id": "bwLHXbFttDDZ",
        "outputId": "e5b8c035-abac-40bc-fae9-38ac807ae98b"
      },
      "execution_count": 42,
      "outputs": [
        {
          "output_type": "stream",
          "name": "stdout",
          "text": [
            "Random Integers: [ 405  187  389  781  118  649  640  853  334  539  262  552  429  416\n",
            "  235  349  650  453  430  740  133  234  419  962  564  170  540  621\n",
            "  865  352  566   36   81  161  795  110  950  931  811  474  404   53\n",
            "  693  872  641  753  824  763  391  562  178  735  589  857  143  588\n",
            "  656  848   46   44  154  614  326  881  589   29    0  408  434  395\n",
            "  973  601  105  561   89  879  634  807  107 1000  832  662  939  193\n",
            "  467  242  985  397  257  993  554  254  860  141  870  395  820  980\n",
            "  294  916]\n",
            "Prime Numbers: [389, 853, 349, 419, 811, 53, 641, 857, 881, 29, 601, 89, 107, 193, 467, 397, 257]\n"
          ]
        }
      ]
    },
    {
      "cell_type": "code",
      "source": [
        "#Question 10\n",
        "# Create a NumPy array representing daily temperatures for a month. Calculate and display the weekly averages.\n",
        "\n",
        "import numpy as np\n",
        "\n",
        "# Create a NumPy array representing daily temperatures for 30 days\n",
        "# Generating random temperatures between 15 and 35 degrees Celsius\n",
        "daily_temperatures = np.random.randint(15, 36, size=30).astype(float)\n",
        "\n",
        "# Reshape the array to have 4 weeks (7 days each) and an additional 2 days for the last week\n",
        "# If the number of days isn't a multiple of 7, pad with NaN for consistency\n",
        "if len(daily_temperatures) % 7 != 0:\n",
        "    padding = 7 - (len(daily_temperatures) % 7)\n",
        "    daily_temperatures = np.pad(daily_temperatures, (0, padding), constant_values=np.nan)\n",
        "\n",
        "# Reshape the temperatures into a 2D array (weeks x days)\n",
        "weekly_temperatures = daily_temperatures.reshape(-1, 7)\n",
        "\n",
        "# Calculate the weekly averages, ignoring NaN values\n",
        "weekly_averages = np.nanmean(weekly_temperatures, axis=1)\n",
        "\n",
        "# Display the results\n",
        "print(\"Daily Temperatures for the Month:\", daily_temperatures)\n",
        "print(\"Weekly Averages:\", weekly_averages)\n"
      ],
      "metadata": {
        "colab": {
          "base_uri": "https://localhost:8080/"
        },
        "id": "1RqalPP2whga",
        "outputId": "77a9ecd5-2a69-43b3-a94c-591ee9cf161c"
      },
      "execution_count": 45,
      "outputs": [
        {
          "output_type": "stream",
          "name": "stdout",
          "text": [
            "Daily Temperatures for the Month: [16. 16. 22. 25. 16. 28. 29. 15. 22. 18. 34. 21. 33. 33. 25. 31. 17. 34.\n",
            " 29. 32. 25. 15. 22. 32. 18. 16. 20. 29. 26. 25. nan nan nan nan nan]\n",
            "Weekly Averages: [21.71428571 25.14285714 27.57142857 21.71428571 25.5       ]\n"
          ]
        }
      ]
    },
    {
      "cell_type": "code",
      "source": [],
      "metadata": {
        "id": "oXyvWSgBxwbZ"
      },
      "execution_count": null,
      "outputs": []
    },
    {
      "cell_type": "code",
      "source": [],
      "metadata": {
        "id": "y2Al5zKqyxbE"
      },
      "execution_count": null,
      "outputs": []
    },
    {
      "cell_type": "code",
      "source": [],
      "metadata": {
        "id": "E7i4zwEMyxue"
      },
      "execution_count": null,
      "outputs": []
    }
  ]
}